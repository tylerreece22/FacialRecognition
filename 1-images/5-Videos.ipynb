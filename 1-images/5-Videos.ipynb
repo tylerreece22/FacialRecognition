{
 "cells": [
  {
   "cell_type": "code",
   "execution_count": 1,
   "id": "suffering-manchester",
   "metadata": {},
   "outputs": [],
   "source": [
    "import numpy as np\n",
    "import cv2\n",
    "import matplotlib.pyplot as plt\n",
    "\n",
    "%matplotlib inline"
   ]
  },
  {
   "cell_type": "code",
   "execution_count": 2,
   "id": "union-employee",
   "metadata": {},
   "outputs": [],
   "source": [
    "haar = cv2.CascadeClassifier('../data/haarcascade_frontalface_default.xml')"
   ]
  },
  {
   "cell_type": "code",
   "execution_count": 3,
   "id": "moral-journalism",
   "metadata": {},
   "outputs": [],
   "source": [
    "def face_detect(image):\n",
    "    gray = cv2.cvtColor(frame, cv2.COLOR_BGR2GRAY)\n",
    "    faces = haar.detectMultiScale(gray, 2,2)\n",
    "    \n",
    "    for x,y,w,h in faces:\n",
    "        cv2.rectangle(image, (x,y), (x+w,y+h),(0, 255,255),10)\n",
    "    \n",
    "    return image"
   ]
  },
  {
   "cell_type": "code",
   "execution_count": null,
   "id": "democratic-palestine",
   "metadata": {},
   "outputs": [],
   "source": [
    "cap = cv2.VideoCapture('../data/kids.mp4')\n",
    "\n",
    "frames = 0\n",
    "while True:\n",
    "    ret,frame = cap.read()\n",
    "    if ret == False:\n",
    "        print(f\"Printed {frames} frames\")\n",
    "        break\n",
    "        \n",
    "    frame = face_detect(frame)\n",
    "    cv2.imshow('object_detect',frame)\n",
    "    if cv2.waitKey(40) == 27: # Every 40 milliseconds check if escape key is pressed\n",
    "        break\n",
    "    frames += 1\n",
    "        \n",
    "cv2.destroyAllWindows()\n",
    "cap.release()"
   ]
  },
  {
   "cell_type": "code",
   "execution_count": null,
   "id": "progressive-killing",
   "metadata": {},
   "outputs": [],
   "source": []
  }
 ],
 "metadata": {
  "kernelspec": {
   "display_name": "Python 3",
   "language": "python",
   "name": "python3"
  },
  "language_info": {
   "codemirror_mode": {
    "name": "ipython",
    "version": 3
   },
   "file_extension": ".py",
   "mimetype": "text/x-python",
   "name": "python",
   "nbconvert_exporter": "python",
   "pygments_lexer": "ipython3",
   "version": "3.9.1"
  }
 },
 "nbformat": 4,
 "nbformat_minor": 5
}
