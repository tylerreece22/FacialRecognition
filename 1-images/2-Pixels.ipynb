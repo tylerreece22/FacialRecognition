{
 "cells": [
  {
   "cell_type": "code",
   "execution_count": 1,
   "id": "graphic-journey",
   "metadata": {},
   "outputs": [],
   "source": [
    "import numpy as np\n",
    "import cv2\n",
    "import matplotlib.pyplot as plt\n",
    "%matplotlib inline"
   ]
  },
  {
   "cell_type": "code",
   "execution_count": 2,
   "id": "failing-jacob",
   "metadata": {},
   "outputs": [
    {
     "data": {
      "text/plain": [
       "array([ 0,  1,  2,  3,  4,  5,  6,  7,  8,  9, 10, 11, 12, 13, 14, 15, 16,\n",
       "       17, 18, 19, 20, 21, 22, 23, 24, 25, 26, 27, 28, 29, 30, 31, 32, 33,\n",
       "       34, 35, 36, 37, 38, 39, 40, 41, 42, 43, 44, 45, 46, 47, 48, 49, 50,\n",
       "       51, 52, 53, 54, 55, 56, 57, 58, 59, 60, 61, 62, 63, 64, 65, 66, 67,\n",
       "       68, 69, 70, 71, 72, 73, 74, 75, 76, 77, 78, 79, 80, 81, 82, 83, 84,\n",
       "       85, 86, 87, 88, 89, 90, 91, 92, 93, 94, 95, 96, 97, 98, 99])"
      ]
     },
     "execution_count": 2,
     "metadata": {},
     "output_type": "execute_result"
    }
   ],
   "source": [
    "arr = np.arange(0,100,1)\n",
    "arr"
   ]
  },
  {
   "cell_type": "code",
   "execution_count": 3,
   "id": "considered-arrow",
   "metadata": {},
   "outputs": [
    {
     "data": {
      "text/plain": [
       "100"
      ]
     },
     "execution_count": 3,
     "metadata": {},
     "output_type": "execute_result"
    }
   ],
   "source": [
    "len(arr)"
   ]
  },
  {
   "cell_type": "code",
   "execution_count": 4,
   "id": "dominican-torture",
   "metadata": {},
   "outputs": [
    {
     "data": {
      "text/plain": [
       "(100,)"
      ]
     },
     "execution_count": 4,
     "metadata": {},
     "output_type": "execute_result"
    }
   ],
   "source": [
    "arr.shape"
   ]
  },
  {
   "cell_type": "code",
   "execution_count": 5,
   "id": "urban-projector",
   "metadata": {},
   "outputs": [
    {
     "data": {
      "text/plain": [
       "array([[ 0,  1,  2,  3,  4,  5,  6,  7,  8,  9],\n",
       "       [10, 11, 12, 13, 14, 15, 16, 17, 18, 19],\n",
       "       [20, 21, 22, 23, 24, 25, 26, 27, 28, 29],\n",
       "       [30, 31, 32, 33, 34, 35, 36, 37, 38, 39],\n",
       "       [40, 41, 42, 43, 44, 45, 46, 47, 48, 49],\n",
       "       [50, 51, 52, 53, 54, 55, 56, 57, 58, 59],\n",
       "       [60, 61, 62, 63, 64, 65, 66, 67, 68, 69],\n",
       "       [70, 71, 72, 73, 74, 75, 76, 77, 78, 79],\n",
       "       [80, 81, 82, 83, 84, 85, 86, 87, 88, 89],\n",
       "       [90, 91, 92, 93, 94, 95, 96, 97, 98, 99]])"
      ]
     },
     "execution_count": 5,
     "metadata": {},
     "output_type": "execute_result"
    }
   ],
   "source": [
    "arr1 = arr.reshape((10,10))\n",
    "arr1"
   ]
  },
  {
   "cell_type": "code",
   "execution_count": 6,
   "id": "described-journal",
   "metadata": {},
   "outputs": [
    {
     "data": {
      "text/plain": [
       "(10, 10)"
      ]
     },
     "execution_count": 6,
     "metadata": {},
     "output_type": "execute_result"
    }
   ],
   "source": [
    "arr1.shape"
   ]
  },
  {
   "cell_type": "code",
   "execution_count": 7,
   "id": "adjusted-negotiation",
   "metadata": {},
   "outputs": [
    {
     "data": {
      "text/plain": [
       "<matplotlib.image.AxesImage at 0x117f9ef10>"
      ]
     },
     "execution_count": 7,
     "metadata": {},
     "output_type": "execute_result"
    },
    {
     "data": {
      "image/png": "[encoded data removed]",
      "text/plain": [
       "<Figure size 432x288 with 1 Axes>"
      ]
     },
     "metadata": {
      "needs_background": "light"
     },
     "output_type": "display_data"
    }
   ],
   "source": [
    "# just a 2d array so it is a gray scale image getting brighter from left to right\n",
    "plt.imshow(arr1, cmap='gray')"
   ]
  },
  {
   "cell_type": "code",
   "execution_count": 8,
   "id": "minus-retention",
   "metadata": {},
   "outputs": [
    {
     "data": {
      "text/plain": [
       "array([[122,  94,  74,  98,  10,  35,  71,  51, 137, 120],\n",
       "       [ 24,  17,  88,  63,   6,  17, 115,  78,   1,  77],\n",
       "       [127,  80,  32,  12,   0,  33,  22,  20,  26,  16],\n",
       "       [ 49,  78,  88, 133, 107, 102, 114,  69, 120,  46],\n",
       "       [ 70,  90, 145,  67, 144,  56, 131, 149, 112, 146],\n",
       "       [132, 103,  62, 130,  25,  91, 120,  50,  17,  93],\n",
       "       [ 82,   4,  41,  47, 107, 129, 142,  17,  34, 101],\n",
       "       [115,  37,  37, 106, 124, 100,  91,   4,  20, 135],\n",
       "       [ 38,   8,  29, 124,  93,  69,  69,  81,  40,  49],\n",
       "       [ 35,  12, 111,  74, 145,  45, 149, 100,  69,  80]])"
      ]
     },
     "execution_count": 8,
     "metadata": {},
     "output_type": "execute_result"
    }
   ],
   "source": [
    "# create 10x10 array of random numbers between 0 and 150\n",
    "# the higher the value the darker the lower the color is black\n",
    "arr2 = np.random.randint(0, 150,(10,10))\n",
    "arr2"
   ]
  },
  {
   "cell_type": "code",
   "execution_count": 9,
   "id": "permanent-reader",
   "metadata": {},
   "outputs": [
    {
     "data": {
      "text/plain": [
       "<matplotlib.image.AxesImage at 0x1180860a0>"
      ]
     },
     "execution_count": 9,
     "metadata": {},
     "output_type": "execute_result"
    },
    {
     "data": {
      "image/png": "[encoded data removed]",
      "text/plain": [
       "<Figure size 432x288 with 1 Axes>"
      ]
     },
     "metadata": {
      "needs_background": "light"
     },
     "output_type": "display_data"
    }
   ],
   "source": [
    "# just shows randomly generated colors\n",
    "plt.imshow(arr2, cmap='gray')"
   ]
  },
  {
   "cell_type": "code",
   "execution_count": 12,
   "id": "prepared-appearance",
   "metadata": {},
   "outputs": [
    {
     "data": {
      "text/plain": [
       "array([[[122, 127, 120],\n",
       "        [139, 140,  33],\n",
       "        [129, 104,   8],\n",
       "        [145,  18,  94],\n",
       "        [ 51,  82,  18],\n",
       "        [147,  28,   5],\n",
       "        [ 61, 131,  18],\n",
       "        [  8,  39, 144],\n",
       "        [ 24,  15,   3],\n",
       "        [130, 144, 134]],\n",
       "\n",
       "       [[ 36, 114,  33],\n",
       "        [ 32,  68,  21],\n",
       "        [115,  32, 105],\n",
       "        [  8,  17,   1],\n",
       "        [ 90,  87, 104],\n",
       "        [ 15,  50, 148],\n",
       "        [ 47, 100, 123],\n",
       "        [103,  55,  45],\n",
       "        [ 32,  75,   2],\n",
       "        [ 84,  37,  75]],\n",
       "\n",
       "       [[ 58,  26, 140],\n",
       "        [ 26,  62,  53],\n",
       "        [149, 135,  81],\n",
       "        [ 98, 139, 117],\n",
       "        [ 29, 112, 137],\n",
       "        [ 92,   9,  13],\n",
       "        [110,  38, 121],\n",
       "        [135,  57, 141],\n",
       "        [ 26, 131,  99],\n",
       "        [ 66,  50,  23]],\n",
       "\n",
       "       [[139, 117, 132],\n",
       "        [ 21, 104, 138],\n",
       "        [ 70,  78,  32],\n",
       "        [102, 100,  93],\n",
       "        [118,  51,  84],\n",
       "        [ 35,  28,  83],\n",
       "        [110, 101, 112],\n",
       "        [ 64,  89,  34],\n",
       "        [126, 102, 128],\n",
       "        [ 78,  77, 141]],\n",
       "\n",
       "       [[114, 113,  85],\n",
       "        [ 24,  38,  88],\n",
       "        [111,   9,   4],\n",
       "        [ 73,  53, 117],\n",
       "        [131, 140,  74],\n",
       "        [  8,  12,  55],\n",
       "        [ 81,  15,  80],\n",
       "        [ 17,  45,  44],\n",
       "        [ 32,  85, 149],\n",
       "        [ 83,   9,  77]],\n",
       "\n",
       "       [[103,  26, 111],\n",
       "        [ 40,  84,  51],\n",
       "        [ 96,  59, 135],\n",
       "        [ 96,  85,  50],\n",
       "        [111,   2,  81],\n",
       "        [134,   9,  65],\n",
       "        [ 51,  35,  50],\n",
       "        [  3,  21, 137],\n",
       "        [135,  46,  35],\n",
       "        [ 23,  50, 102]],\n",
       "\n",
       "       [[136, 144, 123],\n",
       "        [ 77,  87,  77],\n",
       "        [ 94,  26,  70],\n",
       "        [108,  99,  71],\n",
       "        [141,  58,  70],\n",
       "        [  1,  24, 141],\n",
       "        [ 61,  71,  88],\n",
       "        [  9,  44,  60],\n",
       "        [ 15,  62,  96],\n",
       "        [  4,   9,  43]],\n",
       "\n",
       "       [[140, 117,  69],\n",
       "        [ 49, 134,  62],\n",
       "        [142,  51,  71],\n",
       "        [ 27, 107,  43],\n",
       "        [109,  74, 114],\n",
       "        [  8,  44,  24],\n",
       "        [149, 104, 102],\n",
       "        [ 36,  41, 142],\n",
       "        [121, 117,  50],\n",
       "        [126,  27,  21]],\n",
       "\n",
       "       [[ 51,  91,   8],\n",
       "        [ 79,   0, 122],\n",
       "        [ 40, 148, 111],\n",
       "        [144,   7,  33],\n",
       "        [144, 127,  70],\n",
       "        [108, 145,  52],\n",
       "        [ 62, 127, 140],\n",
       "        [ 45, 104,  46],\n",
       "        [ 19,   8, 110],\n",
       "        [113, 108,  80]],\n",
       "\n",
       "       [[  1,  55,   5],\n",
       "        [ 87,  64,  69],\n",
       "        [ 99,  80, 117],\n",
       "        [109, 149,  71],\n",
       "        [ 57,  80, 112],\n",
       "        [133,  11,  30],\n",
       "        [ 18,   8, 115],\n",
       "        [ 21,   2,  79],\n",
       "        [147,  98,  52],\n",
       "        [140,  24,  80]]])"
      ]
     },
     "execution_count": 12,
     "metadata": {},
     "output_type": "execute_result"
    }
   ],
   "source": [
    "# create 3d image\n",
    "arr3 = np.random.randint(0, 150,(10,10,3))\n",
    "arr3"
   ]
  },
  {
   "cell_type": "code",
   "execution_count": 13,
   "id": "imported-lebanon",
   "metadata": {},
   "outputs": [
    {
     "data": {
      "text/plain": [
       "<matplotlib.image.AxesImage at 0x11813f0d0>"
      ]
     },
     "execution_count": 13,
     "metadata": {},
     "output_type": "execute_result"
    },
    {
     "data": {
      "image/png": "[encoded data removed]",
      "text/plain": [
       "<Figure size 432x288 with 1 Axes>"
      ]
     },
     "metadata": {
      "needs_background": "light"
     },
     "output_type": "display_data"
    }
   ],
   "source": [
    "# shows random colors between R, G, and B\n",
    "plt.imshow(arr3)"
   ]
  },
  {
   "cell_type": "code",
   "execution_count": null,
   "id": "static-desire",
   "metadata": {},
   "outputs": [],
   "source": []
  }
 ],
 "metadata": {
  "kernelspec": {
   "display_name": "Python 3",
   "language": "python",
   "name": "python3"
  },
  "language_info": {
   "codemirror_mode": {
    "name": "ipython",
    "version": 3
   },
   "file_extension": ".py",
   "mimetype": "text/x-python",
   "name": "python",
   "nbconvert_exporter": "python",
   "pygments_lexer": "ipython3",
   "version": "3.9.1"
  }
 },
 "nbformat": 4,
 "nbformat_minor": 5
}
